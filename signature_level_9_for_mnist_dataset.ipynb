{
 "cells": [
  {
   "cell_type": "code",
   "execution_count": 1,
   "id": "659e6264",
   "metadata": {},
   "outputs": [],
   "source": [
    "import time\n",
    "import numpy as np\n",
    "import pandas as pd\n",
    "import iisignature\n",
    "from tensorflow.keras.datasets import mnist"
   ]
  },
  {
   "cell_type": "code",
   "execution_count": 2,
   "id": "ce7c8152",
   "metadata": {},
   "outputs": [],
   "source": [
    "# Load MNIST dataset\n",
    "(train_images, train_labels), (test_images, test_labels) = mnist.load_data()"
   ]
  },
  {
   "cell_type": "code",
   "execution_count": 3,
   "id": "cb91eb74",
   "metadata": {},
   "outputs": [],
   "source": [
    "# Function to compute path signatures for a given level\n",
    "def compute_signatures(images, signature_level):\n",
    "    signatures = []\n",
    "    for image in images:\n",
    "        coords = [(x, y) for x in range(image.shape[0]) for y in range(image.shape[1]) if image[x, y] > 0]\n",
    "        path = np.array(coords)\n",
    "        signature = iisignature.sig(path, signature_level)\n",
    "        signatures.append(signature)\n",
    "    return np.array(signatures)"
   ]
  },
  {
   "cell_type": "code",
   "execution_count": 4,
   "id": "13aab4ce",
   "metadata": {},
   "outputs": [],
   "source": [
    "# Set the signature level\n",
    "signature_level = 9"
   ]
  },
  {
   "cell_type": "code",
   "execution_count": 5,
   "id": "0cb2d041",
   "metadata": {},
   "outputs": [
    {
     "name": "stdout",
     "output_type": "stream",
     "text": [
      "Computing path signatures...\n",
      "Time taken to compute signatures for level 9: 2258.02 seconds\n",
      "Path signature computation complete.\n"
     ]
    }
   ],
   "source": [
    "# Compute path signatures for train and test sets\n",
    "print(\"Computing path signatures...\")\n",
    "# Measure time to compute coordinates and path signature\n",
    "start_time = time.time()\n",
    "train_signatures = compute_signatures(train_images, signature_level)\n",
    "test_signatures = compute_signatures(test_images, signature_level)\n",
    "computation_time = time.time() - start_time\n",
    "print(f\"Time taken to compute signatures for level {signature_level}: {computation_time:.2f} seconds\")\n",
    "print(\"Path signature computation complete.\")"
   ]
  },
  {
   "cell_type": "code",
   "execution_count": 6,
   "id": "c69cd189",
   "metadata": {},
   "outputs": [],
   "source": [
    "# Concatenate labels with signatures\n",
    "train_signatures_with_labels = np.column_stack((train_labels, train_signatures))\n",
    "test_signatures_with_labels = np.column_stack((test_labels, test_signatures))"
   ]
  },
  {
   "cell_type": "markdown",
   "id": "aec46832",
   "metadata": {},
   "source": [
    "## To save the computed signatures along with labels to CSV (first column is the label)."
   ]
  },
  {
   "cell_type": "code",
   "execution_count": 7,
   "id": "fdfffe4d",
   "metadata": {},
   "outputs": [
    {
     "name": "stdout",
     "output_type": "stream",
     "text": [
      "Saving signatures with labels to CSV...\n",
      "Signatures and labels saved successfully.\n"
     ]
    }
   ],
   "source": [
    "# Save the computed signatures along with labels to CSV\n",
    "print(\"Saving signatures with labels to CSV...\")\n",
    "pd.DataFrame(train_signatures_with_labels).to_csv(\"train_signatures_level_9_with_labels.csv\", index=False, header=False)\n",
    "pd.DataFrame(test_signatures_with_labels).to_csv(\"test_signatures_level_9_with_labels.csv\", index=False, header=False)\n",
    "print(\"Signatures and labels saved successfully.\")"
   ]
  },
  {
   "cell_type": "markdown",
   "id": "c8faeef0",
   "metadata": {},
   "source": [
    "## To load the saved CSV for further data processing ..."
   ]
  },
  {
   "cell_type": "code",
   "execution_count": 8,
   "id": "6fe334ea",
   "metadata": {},
   "outputs": [
    {
     "name": "stdout",
     "output_type": "stream",
     "text": [
      "Loading signatures from CSV...\n"
     ]
    }
   ],
   "source": [
    "# To load the saved data for future use\n",
    "print(\"Loading signatures from CSV...\")\n",
    "train_signatures_loaded = pd.read_csv(\"train_signatures_level_9_with_labels.csv\", header=None).values\n",
    "test_signatures_loaded = pd.read_csv(\"test_signatures_level_9_with_labels.csv\", header=None).values"
   ]
  },
  {
   "cell_type": "code",
   "execution_count": 9,
   "id": "ee092a4e",
   "metadata": {},
   "outputs": [
    {
     "name": "stdout",
     "output_type": "stream",
     "text": [
      "Signatures and labels loaded successfully.\n"
     ]
    }
   ],
   "source": [
    "# Separate labels from signatures (first column is label)\n",
    "train_labels_loaded = train_signatures_loaded[:, 0]\n",
    "test_labels_loaded = test_signatures_loaded[:, 0]\n",
    "train_signatures_loaded = train_signatures_loaded[:, 1:]\n",
    "test_signatures_loaded = test_signatures_loaded[:, 1:]\n",
    "print(\"Signatures and labels loaded successfully.\")"
   ]
  },
  {
   "cell_type": "markdown",
   "id": "dc08385e",
   "metadata": {},
   "source": [
    "## To standardize the signatures"
   ]
  },
  {
   "cell_type": "code",
   "execution_count": 11,
   "id": "e64221b7",
   "metadata": {},
   "outputs": [],
   "source": [
    "from sklearn.preprocessing import StandardScaler\n",
    "\n",
    "# Initialize StandardScaler\n",
    "scaler = StandardScaler()"
   ]
  },
  {
   "cell_type": "code",
   "execution_count": 12,
   "id": "d836e9a9",
   "metadata": {},
   "outputs": [],
   "source": [
    "# Apply StandardScaler to the path signature columns\n",
    "train_signatures_scaled = scaler.fit_transform(train_signatures_loaded)\n",
    "test_signatures_scaled = scaler.transform(test_signatures_loaded)"
   ]
  },
  {
   "cell_type": "code",
   "execution_count": 13,
   "id": "ce269b63",
   "metadata": {},
   "outputs": [],
   "source": [
    "# Combine the standardized signatures with the labels\n",
    "train_signatures_scaled_with_labels = np.column_stack((train_labels_loaded, train_signatures_scaled))\n",
    "test_signatures_scaled_with_labels = np.column_stack((test_labels_loaded, test_signatures_scaled))"
   ]
  },
  {
   "cell_type": "code",
   "execution_count": 14,
   "id": "b9b0e7d4",
   "metadata": {},
   "outputs": [],
   "source": [
    "# Optional: Convert back to DataFrame for better visualization or saving\n",
    "train_df = pd.DataFrame(train_signatures_scaled_with_labels)\n",
    "test_df = pd.DataFrame(test_signatures_scaled_with_labels)"
   ]
  },
  {
   "cell_type": "markdown",
   "id": "0b4cb3ba",
   "metadata": {},
   "source": [
    "## To save the standardized signatures to csv"
   ]
  },
  {
   "cell_type": "code",
   "execution_count": 15,
   "id": "48c9252d",
   "metadata": {},
   "outputs": [
    {
     "name": "stdout",
     "output_type": "stream",
     "text": [
      "Standardization complete and data saved.\n"
     ]
    }
   ],
   "source": [
    "# Save the standardized signatures to csv\n",
    "train_df.to_csv(\"train_signatures_scaled_with_labels.csv\", index=False, header=False)\n",
    "test_df.to_csv(\"test_signatures_scaled_with_labels.csv\", index=False, header=False)\n",
    "print(\"Standardization complete and data saved.\")"
   ]
  }
 ],
 "metadata": {
  "kernelspec": {
   "display_name": "Python 3 (ipykernel)",
   "language": "python",
   "name": "python3"
  },
  "language_info": {
   "codemirror_mode": {
    "name": "ipython",
    "version": 3
   },
   "file_extension": ".py",
   "mimetype": "text/x-python",
   "name": "python",
   "nbconvert_exporter": "python",
   "pygments_lexer": "ipython3",
   "version": "3.9.18"
  }
 },
 "nbformat": 4,
 "nbformat_minor": 5
}
